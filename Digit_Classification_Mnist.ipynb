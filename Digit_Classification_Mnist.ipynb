{
  "metadata": {
    "kernelspec": {
      "language": "python",
      "display_name": "Python 3",
      "name": "python3"
    },
    "language_info": {
      "name": "python",
      "version": "3.10.14",
      "mimetype": "text/x-python",
      "codemirror_mode": {
        "name": "ipython",
        "version": 3
      },
      "pygments_lexer": "ipython3",
      "nbconvert_exporter": "python",
      "file_extension": ".py"
    },
    "kaggle": {
      "accelerator": "none",
      "dataSources": [
        {
          "sourceId": 3004,
          "databundleVersionId": 861823,
          "sourceType": "competition"
        }
      ],
      "dockerImageVersionId": 30761,
      "isInternetEnabled": true,
      "language": "python",
      "sourceType": "notebook",
      "isGpuEnabled": false
    },
    "colab": {
      "name": "Digit Classification Mnist",
      "provenance": [],
      "include_colab_link": true
    }
  },
  "nbformat_minor": 0,
  "nbformat": 4,
  "cells": [
    {
      "cell_type": "markdown",
      "metadata": {
        "id": "view-in-github",
        "colab_type": "text"
      },
      "source": [
        "<a href=\"https://colab.research.google.com/github/lalit-jamdagnee/Kaggle-Data-Science-/blob/main/Digit_Classification_Mnist.ipynb\" target=\"_parent\"><img src=\"https://colab.research.google.com/assets/colab-badge.svg\" alt=\"Open In Colab\"/></a>"
      ]
    },
    {
      "source": [
        "\n",
        "# IMPORTANT: RUN THIS CELL IN ORDER TO IMPORT YOUR KAGGLE DATA SOURCES\n",
        "# TO THE CORRECT LOCATION (/kaggle/input) IN YOUR NOTEBOOK,\n",
        "# THEN FEEL FREE TO DELETE THIS CELL.\n",
        "# NOTE: THIS NOTEBOOK ENVIRONMENT DIFFERS FROM KAGGLE'S PYTHON\n",
        "# ENVIRONMENT SO THERE MAY BE MISSING LIBRARIES USED BY YOUR\n",
        "# NOTEBOOK.\n",
        "\n",
        "import os\n",
        "import sys\n",
        "from tempfile import NamedTemporaryFile\n",
        "from urllib.request import urlopen\n",
        "from urllib.parse import unquote, urlparse\n",
        "from urllib.error import HTTPError\n",
        "from zipfile import ZipFile\n",
        "import tarfile\n",
        "import shutil\n",
        "\n",
        "CHUNK_SIZE = 40960\n",
        "DATA_SOURCE_MAPPING = 'digit-recognizer:https%3A%2F%2Fstorage.googleapis.com%2Fkaggle-competitions-data%2Fkaggle-v2%2F3004%2F861823%2Fbundle%2Farchive.zip%3FX-Goog-Algorithm%3DGOOG4-RSA-SHA256%26X-Goog-Credential%3Dgcp-kaggle-com%2540kaggle-161607.iam.gserviceaccount.com%252F20241004%252Fauto%252Fstorage%252Fgoog4_request%26X-Goog-Date%3D20241004T105032Z%26X-Goog-Expires%3D259200%26X-Goog-SignedHeaders%3Dhost%26X-Goog-Signature%3D197c330f7e235876ed4e4c323aa0d7cc9021ec6f87e433bbb98bbf06c7f5cfabc0a2e7e90c7b0e2d49eec7ef27bc6db665422632d7e5a150971f057d15143ab2638bd0322b5025d7c553e44d15b18a24e1137049a5e346449bf2fcdcdf0ce8f10a25c83fc94ff6451b71f45143c1978e8d9f08228925cef94ed81883feaaa6cf410b5d38bffd1c31b33e258eaed4760d4d61139fff44a3174aa5a91c168ad1d0a9853e5aee9adeec3cab3041bd431dd38e28fd68af69f5b3c690c8293ebd819002fee459be56cf398165e3b63e122d27711d89d10b9446399315be505ccface280df75a3f1f812dbe1b88a2b2f036a3cd75d4696b13af9e66e3b6ac056bf929f'\n",
        "\n",
        "KAGGLE_INPUT_PATH='/kaggle/input'\n",
        "KAGGLE_WORKING_PATH='/kaggle/working'\n",
        "KAGGLE_SYMLINK='kaggle'\n",
        "\n",
        "!umount /kaggle/input/ 2> /dev/null\n",
        "shutil.rmtree('/kaggle/input', ignore_errors=True)\n",
        "os.makedirs(KAGGLE_INPUT_PATH, 0o777, exist_ok=True)\n",
        "os.makedirs(KAGGLE_WORKING_PATH, 0o777, exist_ok=True)\n",
        "\n",
        "try:\n",
        "  os.symlink(KAGGLE_INPUT_PATH, os.path.join(\"..\", 'input'), target_is_directory=True)\n",
        "except FileExistsError:\n",
        "  pass\n",
        "try:\n",
        "  os.symlink(KAGGLE_WORKING_PATH, os.path.join(\"..\", 'working'), target_is_directory=True)\n",
        "except FileExistsError:\n",
        "  pass\n",
        "\n",
        "for data_source_mapping in DATA_SOURCE_MAPPING.split(','):\n",
        "    directory, download_url_encoded = data_source_mapping.split(':')\n",
        "    download_url = unquote(download_url_encoded)\n",
        "    filename = urlparse(download_url).path\n",
        "    destination_path = os.path.join(KAGGLE_INPUT_PATH, directory)\n",
        "    try:\n",
        "        with urlopen(download_url) as fileres, NamedTemporaryFile() as tfile:\n",
        "            total_length = fileres.headers['content-length']\n",
        "            print(f'Downloading {directory}, {total_length} bytes compressed')\n",
        "            dl = 0\n",
        "            data = fileres.read(CHUNK_SIZE)\n",
        "            while len(data) > 0:\n",
        "                dl += len(data)\n",
        "                tfile.write(data)\n",
        "                done = int(50 * dl / int(total_length))\n",
        "                sys.stdout.write(f\"\\r[{'=' * done}{' ' * (50-done)}] {dl} bytes downloaded\")\n",
        "                sys.stdout.flush()\n",
        "                data = fileres.read(CHUNK_SIZE)\n",
        "            if filename.endswith('.zip'):\n",
        "              with ZipFile(tfile) as zfile:\n",
        "                zfile.extractall(destination_path)\n",
        "            else:\n",
        "              with tarfile.open(tfile.name) as tarfile:\n",
        "                tarfile.extractall(destination_path)\n",
        "            print(f'\\nDownloaded and uncompressed: {directory}')\n",
        "    except HTTPError as e:\n",
        "        print(f'Failed to load (likely expired) {download_url} to path {destination_path}')\n",
        "        continue\n",
        "    except OSError as e:\n",
        "        print(f'Failed to load {download_url} to path {destination_path}')\n",
        "        continue\n",
        "\n",
        "print('Data source import complete.')\n"
      ],
      "metadata": {
        "id": "qrLKBNleJxnB"
      },
      "cell_type": "code",
      "outputs": [],
      "execution_count": null
    },
    {
      "cell_type": "code",
      "source": [
        "# This Python 3 environment comes with many helpful analytics libraries installed\n",
        "# It is defined by the kaggle/python Docker image: https://github.com/kaggle/docker-python\n",
        "# For example, here's several helpful packages to load\n",
        "\n",
        "import numpy as np # linear algebra\n",
        "import pandas as pd # data processing, CSV file I/O (e.g. pd.read_csv)\n",
        "\n",
        "# Input data files are available in the read-only \"../input/\" directory\n",
        "# For example, running this (by clicking run or pressing Shift+Enter) will list all files under the input directory\n",
        "\n",
        "import os\n",
        "for dirname, _, filenames in os.walk('/kaggle/input'):\n",
        "    for filename in filenames:\n",
        "        print(os.path.join(dirname, filename))\n",
        "\n",
        "# You can write up to 20GB to the current directory (/kaggle/working/) that gets preserved as output when you create a version using \"Save & Run All\"\n",
        "# You can also write temporary files to /kaggle/temp/, but they won't be saved outside of the current session"
      ],
      "metadata": {
        "_uuid": "8f2839f25d086af736a60e9eeb907d3b93b6e0e5",
        "_cell_guid": "b1076dfc-b9ad-4769-8c92-a6c4dae69d19",
        "execution": {
          "iopub.status.busy": "2024-09-07T11:43:38.878976Z",
          "iopub.execute_input": "2024-09-07T11:43:38.879421Z",
          "iopub.status.idle": "2024-09-07T11:43:39.319336Z",
          "shell.execute_reply.started": "2024-09-07T11:43:38.879378Z",
          "shell.execute_reply": "2024-09-07T11:43:39.318109Z"
        },
        "trusted": true,
        "id": "YXhd55cHJxnF"
      },
      "execution_count": null,
      "outputs": []
    },
    {
      "cell_type": "code",
      "source": [
        "import numpy as np\n",
        "import pandas as pd\n",
        "import tensorflow as tf\n",
        "import matplotlib.pyplot as plt"
      ],
      "metadata": {
        "execution": {
          "iopub.status.busy": "2024-09-07T11:43:39.321935Z",
          "iopub.execute_input": "2024-09-07T11:43:39.322584Z",
          "iopub.status.idle": "2024-09-07T11:43:43.216243Z",
          "shell.execute_reply.started": "2024-09-07T11:43:39.322529Z",
          "shell.execute_reply": "2024-09-07T11:43:43.214684Z"
        },
        "trusted": true,
        "id": "XBgSZYGoJxnF"
      },
      "execution_count": null,
      "outputs": []
    },
    {
      "cell_type": "code",
      "source": [
        "df = pd.read_csv('/kaggle/input/digit-recognizer/train.csv')\n",
        "df_test = pd.read_csv('/kaggle/input/digit-recognizer/test.csv')"
      ],
      "metadata": {
        "execution": {
          "iopub.status.busy": "2024-09-07T11:43:43.21762Z",
          "iopub.execute_input": "2024-09-07T11:43:43.218317Z",
          "iopub.status.idle": "2024-09-07T11:43:48.278184Z",
          "shell.execute_reply.started": "2024-09-07T11:43:43.218268Z",
          "shell.execute_reply": "2024-09-07T11:43:48.27673Z"
        },
        "trusted": true,
        "id": "8kIxOz6GJxnG"
      },
      "execution_count": null,
      "outputs": []
    },
    {
      "cell_type": "code",
      "source": [
        "df.head()"
      ],
      "metadata": {
        "execution": {
          "iopub.status.busy": "2024-09-07T11:43:48.280254Z",
          "iopub.execute_input": "2024-09-07T11:43:48.280664Z",
          "iopub.status.idle": "2024-09-07T11:43:48.310105Z",
          "shell.execute_reply.started": "2024-09-07T11:43:48.280625Z",
          "shell.execute_reply": "2024-09-07T11:43:48.308797Z"
        },
        "trusted": true,
        "id": "u6ROHqSOJxnG"
      },
      "execution_count": null,
      "outputs": []
    },
    {
      "cell_type": "code",
      "source": [
        "# seperating features and labels from the training dataset\n",
        "\n",
        "X = df.drop(['label'], axis=1)\n",
        "y = df['label']"
      ],
      "metadata": {
        "execution": {
          "iopub.status.busy": "2024-09-07T11:43:48.313721Z",
          "iopub.execute_input": "2024-09-07T11:43:48.314245Z",
          "iopub.status.idle": "2024-09-07T11:43:48.407217Z",
          "shell.execute_reply.started": "2024-09-07T11:43:48.314192Z",
          "shell.execute_reply": "2024-09-07T11:43:48.406105Z"
        },
        "trusted": true,
        "id": "wb1U_GOfJxnG"
      },
      "execution_count": null,
      "outputs": []
    },
    {
      "cell_type": "code",
      "source": [
        "# Scaling the dataset for better predictions\n",
        "\n",
        "X = X/255.0\n",
        "df_test = df_test/255.0"
      ],
      "metadata": {
        "execution": {
          "iopub.status.busy": "2024-09-07T11:43:48.408527Z",
          "iopub.execute_input": "2024-09-07T11:43:48.408879Z",
          "iopub.status.idle": "2024-09-07T11:43:48.521121Z",
          "shell.execute_reply.started": "2024-09-07T11:43:48.408842Z",
          "shell.execute_reply": "2024-09-07T11:43:48.519841Z"
        },
        "trusted": true,
        "id": "TSMziwopJxnG"
      },
      "execution_count": null,
      "outputs": []
    },
    {
      "cell_type": "code",
      "source": [
        "# Let's see some images from the dataset\n",
        "def plotting_digit(n):\n",
        "    X_np = X.to_numpy()\n",
        "    plt.figure(figsize=(6, 6))\n",
        "    for i in range(n**2):\n",
        "        plt.subplot(n, n, i+1)\n",
        "        plt.imshow(X_np[i*10].reshape(28, 28), cmap=\"gray\")\n",
        "        plt.axis(False)\n",
        "    plt.show()\n",
        "plotting_digit(3)"
      ],
      "metadata": {
        "execution": {
          "iopub.status.busy": "2024-09-07T11:43:48.522532Z",
          "iopub.execute_input": "2024-09-07T11:43:48.522914Z",
          "iopub.status.idle": "2024-09-07T11:43:48.850106Z",
          "shell.execute_reply.started": "2024-09-07T11:43:48.522857Z",
          "shell.execute_reply": "2024-09-07T11:43:48.848839Z"
        },
        "trusted": true,
        "id": "Smn_h7xzJxnH"
      },
      "execution_count": null,
      "outputs": []
    },
    {
      "cell_type": "code",
      "source": [
        "from sklearn.model_selection import train_test_split\n",
        "\n",
        "X_train, X_test, y_train, y_test = train_test_split(X, y, test_size = 0.1, stratify= y, random_state=42)\n",
        "print(\"X_train shape: \", X_train.shape)\n",
        "print(\"X_test shape: \", X_test.shape)\n",
        "print(\"y_test shape: \", y_test.shape)\n",
        "print(\"y_train shape: :\", y_train.shape)"
      ],
      "metadata": {
        "execution": {
          "iopub.status.busy": "2024-09-07T11:43:48.852029Z",
          "iopub.execute_input": "2024-09-07T11:43:48.853027Z",
          "iopub.status.idle": "2024-09-07T11:43:49.486982Z",
          "shell.execute_reply.started": "2024-09-07T11:43:48.852959Z",
          "shell.execute_reply": "2024-09-07T11:43:49.485493Z"
        },
        "trusted": true,
        "id": "TGLTHzGiJxnH"
      },
      "execution_count": null,
      "outputs": []
    },
    {
      "cell_type": "code",
      "source": [
        "# Let's train our model for classifying  the test results\n",
        "\n",
        "from sklearn.ensemble import RandomForestClassifier\n",
        "from sklearn.model_selection import GridSearchCV\n",
        "\n",
        "rf_clf = RandomForestClassifier()\n",
        "rf_clf.fit(X_train, y_train)\n"
      ],
      "metadata": {
        "execution": {
          "iopub.status.busy": "2024-09-07T11:43:49.488724Z",
          "iopub.execute_input": "2024-09-07T11:43:49.489634Z",
          "iopub.status.idle": "2024-09-07T11:44:20.765065Z",
          "shell.execute_reply.started": "2024-09-07T11:43:49.489576Z",
          "shell.execute_reply": "2024-09-07T11:44:20.763745Z"
        },
        "trusted": true,
        "id": "b7mkzC7pJxnH"
      },
      "execution_count": null,
      "outputs": []
    },
    {
      "cell_type": "code",
      "source": [
        "from sklearn.svm import SVC\n",
        "svm_clf = SVC(C=1.0, kernel='rbf')\n",
        "svm_clf.fit(X_train, y_train)"
      ],
      "metadata": {
        "execution": {
          "iopub.status.busy": "2024-09-07T11:44:20.766677Z",
          "iopub.execute_input": "2024-09-07T11:44:20.767139Z",
          "iopub.status.idle": "2024-09-07T11:46:29.455989Z",
          "shell.execute_reply.started": "2024-09-07T11:44:20.76709Z",
          "shell.execute_reply": "2024-09-07T11:46:29.454845Z"
        },
        "trusted": true,
        "id": "zSrjyHq1JxnI"
      },
      "execution_count": null,
      "outputs": []
    },
    {
      "cell_type": "code",
      "source": [
        "# predicting the output on the test set created by us\n",
        "y_pred_svm = svm_clf.predict(X_test)\n",
        "y_pred_rf = rf_clf.predict(X_test)"
      ],
      "metadata": {
        "execution": {
          "iopub.status.busy": "2024-09-07T11:47:07.274368Z",
          "iopub.execute_input": "2024-09-07T11:47:07.274811Z",
          "iopub.status.idle": "2024-09-07T11:47:41.506792Z",
          "shell.execute_reply.started": "2024-09-07T11:47:07.274772Z",
          "shell.execute_reply": "2024-09-07T11:47:41.505375Z"
        },
        "trusted": true,
        "id": "OTef3o9iJxnI"
      },
      "execution_count": null,
      "outputs": []
    },
    {
      "cell_type": "code",
      "source": [
        "from sklearn.metrics import f1_score\n",
        "\n",
        "rf_accuracy = f1_score(y_test, y_pred_rf, average=\"macro\")\n",
        "svm_accuracy = f1_score(y_test, y_pred_svm, average=\"macro\")\n",
        "print(\"Accuracy of Random Forest Classifier: \", rf_accuracy)\n",
        "print(\"Accuracy of SVM classifier: \", svm_accuracy)"
      ],
      "metadata": {
        "execution": {
          "iopub.status.busy": "2024-09-07T11:50:55.693945Z",
          "iopub.execute_input": "2024-09-07T11:50:55.694444Z",
          "iopub.status.idle": "2024-09-07T11:50:55.716203Z",
          "shell.execute_reply.started": "2024-09-07T11:50:55.694398Z",
          "shell.execute_reply": "2024-09-07T11:50:55.715004Z"
        },
        "trusted": true,
        "id": "c-cPr8bgJxnI"
      },
      "execution_count": null,
      "outputs": []
    },
    {
      "cell_type": "code",
      "source": [
        "sample = pd.read_csv('/kaggle/input/digit-recognizer/sample_submission.csv')\n",
        "sample.head()"
      ],
      "metadata": {
        "execution": {
          "iopub.status.busy": "2024-09-07T11:51:05.634174Z",
          "iopub.execute_input": "2024-09-07T11:51:05.635287Z",
          "iopub.status.idle": "2024-09-07T11:51:05.666422Z",
          "shell.execute_reply.started": "2024-09-07T11:51:05.635236Z",
          "shell.execute_reply": "2024-09-07T11:51:05.665141Z"
        },
        "trusted": true,
        "id": "5OqhV0mcJxnI"
      },
      "execution_count": null,
      "outputs": []
    },
    {
      "cell_type": "code",
      "source": [
        "# Since our SVM classifier performs better than the RF classifier we will use it for the final\n",
        "# prediction on the test dataset\n",
        "predictions = svm_clf.predict(df_test)"
      ],
      "metadata": {
        "execution": {
          "iopub.status.busy": "2024-09-07T11:52:43.439347Z",
          "iopub.execute_input": "2024-09-07T11:52:43.439806Z",
          "iopub.status.idle": "2024-09-07T11:56:32.08782Z",
          "shell.execute_reply.started": "2024-09-07T11:52:43.439764Z",
          "shell.execute_reply": "2024-09-07T11:56:32.086465Z"
        },
        "trusted": true,
        "id": "jb6z6HcbJxnI"
      },
      "execution_count": null,
      "outputs": []
    },
    {
      "cell_type": "code",
      "source": [
        "# Creating the output dataframe as per the specifications of the submission file\n",
        "output = pd.DataFrame(predictions, columns=['Label'])\n",
        "output['ImageId'] = output.index + 1\n",
        "output = output[['ImageId', 'Label']]\n",
        "output.head()"
      ],
      "metadata": {
        "execution": {
          "iopub.status.busy": "2024-09-07T12:04:17.59932Z",
          "iopub.execute_input": "2024-09-07T12:04:17.599769Z",
          "iopub.status.idle": "2024-09-07T12:04:17.614234Z",
          "shell.execute_reply.started": "2024-09-07T12:04:17.599723Z",
          "shell.execute_reply": "2024-09-07T12:04:17.613064Z"
        },
        "trusted": true,
        "id": "TiXG1arPJxnI"
      },
      "execution_count": null,
      "outputs": []
    },
    {
      "cell_type": "code",
      "source": [
        "output.to_csv('submission.csv', index=False)"
      ],
      "metadata": {
        "execution": {
          "iopub.status.busy": "2024-09-07T12:04:57.963973Z",
          "iopub.execute_input": "2024-09-07T12:04:57.964431Z",
          "iopub.status.idle": "2024-09-07T12:04:58.002787Z",
          "shell.execute_reply.started": "2024-09-07T12:04:57.96439Z",
          "shell.execute_reply": "2024-09-07T12:04:58.001642Z"
        },
        "trusted": true,
        "id": "QM-Eh_lbJxnI"
      },
      "execution_count": null,
      "outputs": []
    },
    {
      "cell_type": "code",
      "source": [],
      "metadata": {
        "id": "AHgc5SqRJxnI"
      },
      "execution_count": null,
      "outputs": []
    }
  ]
}